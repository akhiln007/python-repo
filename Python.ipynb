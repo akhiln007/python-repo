{
  "nbformat": 4,
  "nbformat_minor": 0,
  "metadata": {
    "colab": {
      "name": "Python.ipynb",
      "provenance": [],
      "toc_visible": true,
      "authorship_tag": "ABX9TyMdnGvftX2l0wC4jWoZW+FQ",
      "include_colab_link": true
    },
    "kernelspec": {
      "name": "python3",
      "display_name": "Python 3"
    }
  },
  "cells": [
    {
      "cell_type": "markdown",
      "metadata": {
        "id": "view-in-github",
        "colab_type": "text"
      },
      "source": [
        "<a href=\"https://colab.research.google.com/github/akhiln007/python-repo/blob/master/Python.ipynb\" target=\"_parent\"><img src=\"https://colab.research.google.com/assets/colab-badge.svg\" alt=\"Open In Colab\"/></a>"
      ]
    },
    {
      "cell_type": "markdown",
      "metadata": {
        "id": "MdIXm7EClPVY",
        "colab_type": "text"
      },
      "source": [
        "# Printing\n",
        "\n",
        "You can include a comment in python by prefixing some text with a # character. All text following the # will then be ignored by the interpreter."
      ]
    },
    {
      "cell_type": "code",
      "metadata": {
        "id": "zQ-6GydGlS7M",
        "colab_type": "code",
        "colab": {
          "base_uri": "https://localhost:8080/",
          "height": 104
        },
        "outputId": "e0571dfb-404e-4d5e-dc79-8549ed81641a"
      },
      "source": [
        "print(\"Hello World!!\") #To print text, enclose it between double quotation mark\n",
        "print('Hello World!')  #You can enclose the text in single quotation as well\n",
        "print(34)              #Print an integer\n",
        "print(5+5)             #Print the result of an arithmetic operation\n",
        "print(\"The answer is\",10) #Print multiple expressions, separated by comma"
      ],
      "execution_count": null,
      "outputs": [
        {
          "output_type": "stream",
          "text": [
            "Hello World!!\n",
            "Hello World!\n",
            "34\n",
            "10\n",
            "The answer is 10\n"
          ],
          "name": "stdout"
        }
      ]
    },
    {
      "cell_type": "markdown",
      "metadata": {
        "id": "CZLbTKdzn3Hy",
        "colab_type": "text"
      },
      "source": [
        "# Variables\n",
        "\n",
        "A variable can be assigned to a simple value or the outcome of a more complex expression. The = operator is used to assign a value to a variable."
      ]
    },
    {
      "cell_type": "code",
      "metadata": {
        "id": "u5PDwhMfn6DD",
        "colab_type": "code",
        "colab": {
          "base_uri": "https://localhost:8080/",
          "height": 104
        },
        "outputId": "43ea56fd-2b4c-4de2-a952-d289123f1514"
      },
      "source": [
        "x=4       #assignment of a simple value\n",
        "print(x)\n",
        "\n",
        "y=x+5     #assignment of a more complex expression\n",
        "print(y)\n",
        "\n",
        "i=12\n",
        "print(i)  \n",
        "i=i+1     #assignment of a current value of a variable incremented by 1 to itself\n",
        "print(i)\n",
        "i+=1      #shorter version with the special += operator\n",
        "print(i)\n"
      ],
      "execution_count": null,
      "outputs": [
        {
          "output_type": "stream",
          "text": [
            "4\n",
            "9\n",
            "12\n",
            "13\n",
            "14\n"
          ],
          "name": "stdout"
        }
      ]
    },
    {
      "cell_type": "markdown",
      "metadata": {
        "id": "8Cf4ECOmWP4J",
        "colab_type": "text"
      },
      "source": [
        "#Simple Data Types\n",
        "\n",
        "Python has four main data types: integer, float, string and boolean\n",
        "\n"
      ]
    },
    {
      "cell_type": "code",
      "metadata": {
        "id": "EcTie_lxtWO0",
        "colab_type": "code",
        "colab": {
          "base_uri": "https://localhost:8080/",
          "height": 104
        },
        "outputId": "562e5bf1-b6b7-46cb-c788-1fb0a036d226"
      },
      "source": [
        "a=2       # integer\n",
        "b=5.7     # float\n",
        "c='word'  # string\n",
        "d=4>5     # boolean (True or False)\n",
        "e=None    # special built-in value to create a variable that has not been set to anything specific\n",
        "\n",
        "print(a,\"is of type\",type(a))   #to check the type of a variable\n",
        "print(b,\"is of type\",type(b))\n",
        "print(c,\"is of type\",type(c))\n",
        "print(d,\"is of type\",type(d))\n",
        "print(e,\"is of type\",type(e))\n"
      ],
      "execution_count": null,
      "outputs": [
        {
          "output_type": "stream",
          "text": [
            "2 is of type <class 'int'>\n",
            "5.7 is of type <class 'float'>\n",
            "word is of type <class 'str'>\n",
            "False is of type <class 'bool'>\n",
            "None is of type <class 'NoneType'>\n"
          ],
          "name": "stdout"
        }
      ]
    },
    {
      "cell_type": "markdown",
      "metadata": {
        "id": "pGW6kOR-RPGr",
        "colab_type": "text"
      },
      "source": [
        "# Arithmetic Operations\n",
        "\n",
        "Using Python as a calculator to do simple mathematical operations in integer and float numbers"
      ]
    },
    {
      "cell_type": "code",
      "metadata": {
        "id": "bFM2i48xRcdl",
        "colab_type": "code",
        "colab": {
          "base_uri": "https://localhost:8080/",
          "height": 35
        },
        "outputId": "7e329c7e-92c6-46f6-bae7-871393f62044"
      },
      "source": [
        "a=2     # assignment\n",
        "a+=2    # adding 2 to variable a\n",
        "a/=2    # dividing variable a by 2\n",
        "3+2     # addition\n",
        "3-2     # subtraction\n",
        "3*2     # multiplication\n",
        "3/2     # division\n",
        "\n",
        "3//2    # integer division\n",
        "3%2     # remainder\n",
        "3**2    # exponent"
      ],
      "execution_count": null,
      "outputs": [
        {
          "output_type": "execute_result",
          "data": {
            "text/plain": [
              "9"
            ]
          },
          "metadata": {
            "tags": []
          },
          "execution_count": 1
        }
      ]
    },
    {
      "cell_type": "markdown",
      "metadata": {
        "id": "QK8H6zmMW1S9",
        "colab_type": "text"
      },
      "source": [
        "# Functions"
      ]
    },
    {
      "cell_type": "code",
      "metadata": {
        "id": "OO0BTigSjEwv",
        "colab_type": "code",
        "colab": {}
      },
      "source": [
        "def sum_of_square(stop_val):\n",
        "  sum_=0\n",
        "  for i in range(stop_val):\n",
        "    sum_=sum_+i\n",
        "  return sum_"
      ],
      "execution_count": null,
      "outputs": []
    },
    {
      "cell_type": "code",
      "metadata": {
        "id": "dy23s7zzj6IO",
        "colab_type": "code",
        "colab": {
          "base_uri": "https://localhost:8080/",
          "height": 35
        },
        "outputId": "3f3e08db-6a81-4535-ceb9-8651d45aa7c6"
      },
      "source": [
        "print(sum_of_square(5))"
      ],
      "execution_count": null,
      "outputs": [
        {
          "output_type": "stream",
          "text": [
            "10\n"
          ],
          "name": "stdout"
        }
      ]
    },
    {
      "cell_type": "code",
      "metadata": {
        "id": "_gQ6qIUSkA9-",
        "colab_type": "code",
        "colab": {}
      },
      "source": [
        "def sum_of_square_new(start_val,stop_val):\n",
        "  sum_=0\n",
        "  for i in range(start_val,stop_val,1):\n",
        "    sum_=sum_+i\n",
        "  return sum_"
      ],
      "execution_count": null,
      "outputs": []
    },
    {
      "cell_type": "code",
      "metadata": {
        "id": "5acfCFu8sFqb",
        "colab_type": "code",
        "colab": {
          "base_uri": "https://localhost:8080/",
          "height": 35
        },
        "outputId": "5c23c499-099f-423b-bab9-69a73ee4551d"
      },
      "source": [
        "print(sum_of_square_new(1,4))"
      ],
      "execution_count": null,
      "outputs": [
        {
          "output_type": "stream",
          "text": [
            "6\n"
          ],
          "name": "stdout"
        }
      ]
    },
    {
      "cell_type": "markdown",
      "metadata": {
        "id": "l1jrfR3JT7G7",
        "colab_type": "text"
      },
      "source": [
        "# Data structures\n",
        "\n",
        "There are also different types of data structures in Python to store the main basic data types shown above:\n",
        "\n",
        "Lists\n",
        "\n",
        "Sets\n",
        "\n",
        "Tuples\n",
        "\n",
        "Dictionaries"
      ]
    },
    {
      "cell_type": "markdown",
      "metadata": {
        "id": "As3C-bYGXXDw",
        "colab_type": "text"
      },
      "source": [
        "# Lists\n",
        "\n",
        "A list is an ordered collection of mutable elements e.g. the elements inside a list can be modified."
      ]
    },
    {
      "cell_type": "code",
      "metadata": {
        "id": "jfj0mlhAUYeW",
        "colab_type": "code",
        "colab": {
          "base_uri": "https://localhost:8080/",
          "height": 468
        },
        "outputId": "fdc97f94-0d15-40f2-9bda-8660d327c4a0"
      },
      "source": [
        "a=['Red','Green','Blue']          # Manual initialisation\n",
        "copy_of_a=a[:]                    # Copy of a\n",
        "another_a=a                       # Same as a\n",
        "a.append('Yellow')                # add new element to end of list\n",
        "a.extend(b)                       # add elements from list 'b' to end of list 'a'\n",
        "a.insert(1,'yellow')              # insert element in specified position\n",
        "print('List a is:-', a)\n",
        "print('Copy of initial list a is:-', copy_of_a)\n",
        "print('Same as list a:-', another_a)\n",
        "i=a.pop(2)                        # remove and return item at index (default last)\n",
        "print('Remove an item using POP function for index 2:-', i)\n",
        "print('\\n')\n",
        "\n",
        "b=list(range(5))                  # initialise from iteratable\n",
        "print('The list b created using range(5):-', b)\n",
        "print('\\n')\n",
        "\n",
        "c=[1,2,3,4,5,6]                   # manual initialisation\n",
        "len(c)                            # Length of the list\n",
        "d=c[0]                            # access first element at index 0\n",
        "e=c[1:3]                          # access a slice of the list, including element at index 1 up to \n",
        "                                  # but not including element at index 3\n",
        "f=c[-1]                           # access last element                                  \n",
        "print('List c is', c)\n",
        "print(\"The length of list c is\", len(c))\n",
        "print('The first element at index 0 for c is:-',d)\n",
        "print('Access a slice of the list c[1:3] :-',e)\n",
        "print('Access last element of list c:-',f)\n",
        "c[1]=8                            # asign new value at index position 1\n",
        "print('Assigning a new value at index 1 for list c:-',c)\n",
        "c.sort()                          # sort list in place\n",
        "print('The sorted list c',c)\n",
        "print('\\n')\n",
        "\n",
        "\n",
        "g=['re','bl']+['gr']              # list concatenation\n",
        "#['re','bl'].index['re']           # returns index of re\n",
        "'re' in ['re','bl']               # true if 're' in list\n",
        "'fi' not in['re','bl']            # true if 'fi' not in list\n",
        "print('The concatenated list:-',g)\n",
        "print(\" 're' in ['re','bl'] is:-\",'re' in ['re','bl'])\n",
        "print(\" 'fi' not in['re','bl'] is:-\",'fi' not in['re','bl'])\n",
        "print('\\n')\n",
        "\n",
        "h=sorted([3,5,1,4])               # returns sorted list\n",
        "print('Sorting a [3,5,1,4] list is:-',h)\n",
        "print('\\n')"
      ],
      "execution_count": null,
      "outputs": [
        {
          "output_type": "stream",
          "text": [
            "List a is:- ['Red', 'yellow', 'Green', 'Blue', 'Yellow', 0, 1, 2, 3, 4]\n",
            "Copy of initial list a is:- ['Red', 'Green', 'Blue']\n",
            "Same as list a:- ['Red', 'yellow', 'Green', 'Blue', 'Yellow', 0, 1, 2, 3, 4]\n",
            "Remove an item using POP function for index 2:- Green\n",
            "\n",
            "\n",
            "The list b created using range(5):- [0, 1, 2, 3, 4]\n",
            "\n",
            "\n",
            "List c is [1, 2, 3, 4, 5, 6]\n",
            "The length of list c is 6\n",
            "The first element at index 0 for c is:- 1\n",
            "Access a slice of the list c[1:3] :- [2, 3]\n",
            "Access last element of list c:- 6\n",
            "Assigning a new value at index 1 for list c:- [1, 8, 3, 4, 5, 6]\n",
            "The sorted list c [1, 3, 4, 5, 6, 8]\n",
            "\n",
            "\n",
            "The concatenated list:- ['re', 'bl', 'gr']\n",
            " 're' in ['re','bl'] is:- True\n",
            " 'fi' not in['re','bl'] is:- True\n",
            "\n",
            "\n",
            "Sorting a [3,5,1,4] list is:- [1, 3, 4, 5]\n",
            "\n",
            "\n"
          ],
          "name": "stdout"
        }
      ]
    },
    {
      "cell_type": "code",
      "metadata": {
        "id": "PwGk5KGVsK2I",
        "colab_type": "code",
        "colab": {}
      },
      "source": [
        "my_phone_list=['iPhone','Samsung','Nokia']"
      ],
      "execution_count": null,
      "outputs": []
    },
    {
      "cell_type": "code",
      "metadata": {
        "id": "fe0P9Fk_YzLu",
        "colab_type": "code",
        "colab": {
          "base_uri": "https://localhost:8080/",
          "height": 35
        },
        "outputId": "bc97956b-248c-41b0-b199-0020fa3903e8"
      },
      "source": [
        "print(my_phone_list)"
      ],
      "execution_count": null,
      "outputs": [
        {
          "output_type": "stream",
          "text": [
            "['iPhone', 'Samsung', 'Nokia']\n"
          ],
          "name": "stdout"
        }
      ]
    },
    {
      "cell_type": "code",
      "metadata": {
        "id": "SkrveWB4Y2oV",
        "colab_type": "code",
        "colab": {
          "base_uri": "https://localhost:8080/",
          "height": 35
        },
        "outputId": "9bb31a18-a356-4a35-dbee-2c966ed0df50"
      },
      "source": [
        "my_phone_list[2]"
      ],
      "execution_count": null,
      "outputs": [
        {
          "output_type": "execute_result",
          "data": {
            "text/plain": [
              "'Nokia'"
            ]
          },
          "metadata": {
            "tags": []
          },
          "execution_count": 3
        }
      ]
    },
    {
      "cell_type": "code",
      "metadata": {
        "id": "7YFCm-2GY6p6",
        "colab_type": "code",
        "colab": {
          "base_uri": "https://localhost:8080/",
          "height": 35
        },
        "outputId": "995d08b8-9294-44a0-945d-82f6ad58355b"
      },
      "source": [
        "type(my_phone_list)"
      ],
      "execution_count": null,
      "outputs": [
        {
          "output_type": "execute_result",
          "data": {
            "text/plain": [
              "list"
            ]
          },
          "metadata": {
            "tags": []
          },
          "execution_count": 4
        }
      ]
    },
    {
      "cell_type": "code",
      "metadata": {
        "id": "mnkkc-aBZGFn",
        "colab_type": "code",
        "colab": {
          "base_uri": "https://localhost:8080/",
          "height": 35
        },
        "outputId": "c7163dee-84f6-456b-f38a-b789fb2fd492"
      },
      "source": [
        "my_phone_list[0:3]"
      ],
      "execution_count": null,
      "outputs": [
        {
          "output_type": "execute_result",
          "data": {
            "text/plain": [
              "['iPhone', 'Samsung', 'Nokia']"
            ]
          },
          "metadata": {
            "tags": []
          },
          "execution_count": 7
        }
      ]
    },
    {
      "cell_type": "code",
      "metadata": {
        "id": "im2Fu02nZ2qN",
        "colab_type": "code",
        "colab": {
          "base_uri": "https://localhost:8080/",
          "height": 35
        },
        "outputId": "278ad942-782b-4139-9268-f4108109e814"
      },
      "source": [
        "dads_phone_list=my_phone_list\n",
        "print(dads_phone_list)"
      ],
      "execution_count": null,
      "outputs": [
        {
          "output_type": "stream",
          "text": [
            "['iPhone', 'Samsung', 'Nokia']\n"
          ],
          "name": "stdout"
        }
      ]
    },
    {
      "cell_type": "code",
      "metadata": {
        "id": "GrW6NWHddv-S",
        "colab_type": "code",
        "colab": {
          "base_uri": "https://localhost:8080/",
          "height": 35
        },
        "outputId": "1fc9494e-310e-4915-b5bc-4cdb93c79e69"
      },
      "source": [
        "my_phone_list[2]='New Nokia'\n",
        "print(my_phone_list)"
      ],
      "execution_count": null,
      "outputs": [
        {
          "output_type": "stream",
          "text": [
            "['iPhone', 'Samsung', 'New Nokia']\n"
          ],
          "name": "stdout"
        }
      ]
    },
    {
      "cell_type": "code",
      "metadata": {
        "id": "QcAIFwgDePlD",
        "colab_type": "code",
        "colab": {
          "base_uri": "https://localhost:8080/",
          "height": 35
        },
        "outputId": "24b5fdd8-220a-4836-d99d-cb05cee2d747"
      },
      "source": [
        "print(dads_phone_list)"
      ],
      "execution_count": null,
      "outputs": [
        {
          "output_type": "stream",
          "text": [
            "['iPhone', 'Samsung', 'New Nokia']\n"
          ],
          "name": "stdout"
        }
      ]
    },
    {
      "cell_type": "code",
      "metadata": {
        "id": "yxQJc01meXqd",
        "colab_type": "code",
        "colab": {
          "base_uri": "https://localhost:8080/",
          "height": 52
        },
        "outputId": "c374c989-9f60-4af5-f446-433f8173e7d2"
      },
      "source": [
        "dads_phone_list=list(my_phone_list)\n",
        "print(my_phone_list)\n",
        "print(dads_phone_list)"
      ],
      "execution_count": null,
      "outputs": [
        {
          "output_type": "stream",
          "text": [
            "['iPhone', 'Samsung', 'New Nokia']\n",
            "['iPhone', 'Samsung', 'New Nokia']\n"
          ],
          "name": "stdout"
        }
      ]
    },
    {
      "cell_type": "code",
      "metadata": {
        "id": "aZd7vHAIelQo",
        "colab_type": "code",
        "colab": {
          "base_uri": "https://localhost:8080/",
          "height": 52
        },
        "outputId": "003a68fd-74a6-444a-ea55-a6a7fa31a4ce"
      },
      "source": [
        "my_phone_list[2]='Vivo'\n",
        "print(my_phone_list)\n",
        "print(dads_phone_list)"
      ],
      "execution_count": null,
      "outputs": [
        {
          "output_type": "stream",
          "text": [
            "['iPhone', 'Samsung', 'Vivo']\n",
            "['iPhone', 'Samsung', 'New Nokia']\n"
          ],
          "name": "stdout"
        }
      ]
    },
    {
      "cell_type": "code",
      "metadata": {
        "id": "MZiPgQR8exiT",
        "colab_type": "code",
        "colab": {
          "base_uri": "https://localhost:8080/",
          "height": 35
        },
        "outputId": "84d515cf-01b5-48e6-cca6-fbaa185d5cc2"
      },
      "source": [
        "len(my_phone_list)"
      ],
      "execution_count": null,
      "outputs": [
        {
          "output_type": "execute_result",
          "data": {
            "text/plain": [
              "3"
            ]
          },
          "metadata": {
            "tags": []
          },
          "execution_count": 14
        }
      ]
    },
    {
      "cell_type": "code",
      "metadata": {
        "id": "m2Z8aGnFfJ6x",
        "colab_type": "code",
        "colab": {
          "base_uri": "https://localhost:8080/",
          "height": 35
        },
        "outputId": "4afe1c7f-dc83-4cf2-c4d0-e36c6ab9d927"
      },
      "source": [
        "my_phone_list.append('Google')\n",
        "print(my_phone_list)"
      ],
      "execution_count": null,
      "outputs": [
        {
          "output_type": "stream",
          "text": [
            "['iPhone', 'Samsung', 'Vivo', 'Google']\n"
          ],
          "name": "stdout"
        }
      ]
    },
    {
      "cell_type": "code",
      "metadata": {
        "id": "oWOydWqGfULW",
        "colab_type": "code",
        "colab": {
          "base_uri": "https://localhost:8080/",
          "height": 35
        },
        "outputId": "6c314365-4a87-4806-9638-b80e102e7f54"
      },
      "source": [
        "my_phone_list=my_phone_list+dads_phone_list\n",
        "print(my_phone_list)"
      ],
      "execution_count": null,
      "outputs": [
        {
          "output_type": "stream",
          "text": [
            "['iPhone', 'Samsung', 'Vivo', 'Google', 'iPhone', 'Samsung', 'New Nokia']\n"
          ],
          "name": "stdout"
        }
      ]
    },
    {
      "cell_type": "code",
      "metadata": {
        "id": "Zg8tdd0rftKc",
        "colab_type": "code",
        "colab": {
          "base_uri": "https://localhost:8080/",
          "height": 139
        },
        "outputId": "cd7114d9-42cb-46f7-c706-0cd00cb9b241"
      },
      "source": [
        "for data in my_phone_list:\n",
        "  print(data)"
      ],
      "execution_count": null,
      "outputs": [
        {
          "output_type": "stream",
          "text": [
            "iPhone\n",
            "Samsung\n",
            "Vivo\n",
            "Google\n",
            "iPhone\n",
            "Samsung\n",
            "New Nokia\n"
          ],
          "name": "stdout"
        }
      ]
    },
    {
      "cell_type": "code",
      "metadata": {
        "id": "tK6cRA8EgBQl",
        "colab_type": "code",
        "colab": {
          "base_uri": "https://localhost:8080/",
          "height": 35
        },
        "outputId": "225046cc-9dd6-441d-97dc-394dee7ade93"
      },
      "source": [
        "print(list(range(5)))"
      ],
      "execution_count": null,
      "outputs": [
        {
          "output_type": "stream",
          "text": [
            "[0, 1, 2, 3, 4]\n"
          ],
          "name": "stdout"
        }
      ]
    },
    {
      "cell_type": "code",
      "metadata": {
        "id": "JFIDNGKpg8-l",
        "colab_type": "code",
        "colab": {
          "base_uri": "https://localhost:8080/",
          "height": 35
        },
        "outputId": "eca9acaf-e82c-4a79-bad1-9d7fd42c289a"
      },
      "source": [
        "a=list(range(5))\n",
        "print(a)"
      ],
      "execution_count": null,
      "outputs": [
        {
          "output_type": "stream",
          "text": [
            "[0, 1, 2, 3, 4]\n"
          ],
          "name": "stdout"
        }
      ]
    },
    {
      "cell_type": "code",
      "metadata": {
        "id": "BIVV3oXQhcXx",
        "colab_type": "code",
        "colab": {}
      },
      "source": [
        "b=list(map(lambda x:x**2,a))"
      ],
      "execution_count": null,
      "outputs": []
    },
    {
      "cell_type": "code",
      "metadata": {
        "id": "9aLKUo8-hlRz",
        "colab_type": "code",
        "colab": {
          "base_uri": "https://localhost:8080/",
          "height": 35
        },
        "outputId": "aee5ae4c-924a-4cbe-defa-230f86b870cf"
      },
      "source": [
        "print(b)"
      ],
      "execution_count": null,
      "outputs": [
        {
          "output_type": "stream",
          "text": [
            "[0, 1, 4, 9, 16]\n"
          ],
          "name": "stdout"
        }
      ]
    },
    {
      "cell_type": "code",
      "metadata": {
        "id": "FkAHRR9zhnh-",
        "colab_type": "code",
        "colab": {}
      },
      "source": [
        "map?\n",
        "\n"
      ],
      "execution_count": null,
      "outputs": []
    },
    {
      "cell_type": "code",
      "metadata": {
        "id": "dTS5zYWQhuEo",
        "colab_type": "code",
        "colab": {
          "base_uri": "https://localhost:8080/",
          "height": 35
        },
        "outputId": "4680de7b-3f36-48b9-a25c-81ef021b2fa5"
      },
      "source": [
        "lambda?"
      ],
      "execution_count": null,
      "outputs": [
        {
          "output_type": "stream",
          "text": [
            "Object `lambda` not found.\n"
          ],
          "name": "stdout"
        }
      ]
    },
    {
      "cell_type": "code",
      "metadata": {
        "id": "S9sdab7yhzY_",
        "colab_type": "code",
        "colab": {
          "base_uri": "https://localhost:8080/",
          "height": 35
        },
        "outputId": "07022e48-6b5e-4759-c730-d0b85059a216"
      },
      "source": [
        "c=list(filter(lambda x: x%2 ==0,b))\n",
        "print(c)"
      ],
      "execution_count": null,
      "outputs": [
        {
          "output_type": "stream",
          "text": [
            "[0, 4, 16]\n"
          ],
          "name": "stdout"
        }
      ]
    },
    {
      "cell_type": "markdown",
      "metadata": {
        "id": "ofOTT5cg5q42",
        "colab_type": "text"
      },
      "source": [
        "# Set\n",
        "\n",
        "A set is an unordered collection of unique elements."
      ]
    },
    {
      "cell_type": "code",
      "metadata": {
        "id": "_nPgAMGLp22O",
        "colab_type": "code",
        "colab": {
          "base_uri": "https://localhost:8080/",
          "height": 329
        },
        "outputId": "a8b87100-87f0-40c5-b4bc-a6e6df27abe5"
      },
      "source": [
        "a={1,2,3}             # initialise manually\n",
        "print('The set a is:-',a)\n",
        "a.add(13)             # add new element to set\n",
        "print('Adding new element 13 using add() function:-',a)\n",
        "a.remove(13)          # removing the new element to set\n",
        "print('Removed the new element using remove() function:-',a)\n",
        "print('\\n')\n",
        "\n",
        "b=set(range(5))       # initialise from iteratable\n",
        "print(\"The set b created using range(5) function:-\",b)\n",
        "print('\\n')\n",
        "\n",
        "2 in{1,2,3}           # True if 2 in set\n",
        "5 not in{1,2,3}       # True if 5 not in set\n",
        "print('True if 2 in{1,2,3} :-',2 in{1,2,3})\n",
        "print('True if 5 not in{1,2,3} :-',5 not in{1,2,3})\n",
        "print('\\n')\n",
        "\n",
        "d=a.union(b)          # return the union of sets as a new set\n",
        "print('Union of a and b using the union() function:-',d)\n",
        "print('\\n')\n",
        "\n",
        "e=a.intersection(b)\n",
        "print('Intersection of a and b using the intersection() function:-',e)\n",
        "print('\\n')\n",
        "\n",
        "\n",
        "\n",
        "\n"
      ],
      "execution_count": null,
      "outputs": [
        {
          "output_type": "stream",
          "text": [
            "The set a is:- {1, 2, 3}\n",
            "Adding new element 13 using add() function:- {1, 2, 3, 13}\n",
            "Removed the new element using remove() function:- {1, 2, 3}\n",
            "\n",
            "\n",
            "The set b created using range(5) function:- {0, 1, 2, 3, 4}\n",
            "\n",
            "\n",
            "True if 2 in{1,2,3} :- True\n",
            "True if 5 not in{1,2,3} :- True\n",
            "\n",
            "\n",
            "Union of a and b using the union() function:- {0, 1, 2, 3, 4}\n",
            "\n",
            "\n",
            "Intersection of a and b using the intersection() function:- {1, 2, 3}\n",
            "\n",
            "\n"
          ],
          "name": "stdout"
        }
      ]
    },
    {
      "cell_type": "code",
      "metadata": {
        "id": "DYEQnPTm7Fq8",
        "colab_type": "code",
        "colab": {
          "base_uri": "https://localhost:8080/",
          "height": 87
        },
        "outputId": "cd80e936-2406-45a1-ca04-0acad43d8924"
      },
      "source": [
        "my_list=list(range(1000000))\n",
        "tic=time.time()\n",
        "print(98731 in my_list)\n",
        "print(131591 in my_list)\n",
        "print(111111111 in my_list)\n",
        "toc=time.time()\n",
        "print(\"Elasped time\",toc-tic)"
      ],
      "execution_count": null,
      "outputs": [
        {
          "output_type": "stream",
          "text": [
            "True\n",
            "True\n",
            "False\n",
            "Elasped time 0.014398813247680664\n"
          ],
          "name": "stdout"
        }
      ]
    },
    {
      "cell_type": "code",
      "metadata": {
        "id": "J2uIOff08bId",
        "colab_type": "code",
        "colab": {
          "base_uri": "https://localhost:8080/",
          "height": 87
        },
        "outputId": "2764082e-d761-406d-eb4f-14df0017137c"
      },
      "source": [
        "my_set=set(range(1000000))\n",
        "tic=time.time()\n",
        "print(98731 in my_set)\n",
        "print(131591 in my_set)\n",
        "print(111111111 in my_set)\n",
        "toc=time.time()\n",
        "print(\"Elasped time\",toc-tic)"
      ],
      "execution_count": null,
      "outputs": [
        {
          "output_type": "stream",
          "text": [
            "True\n",
            "True\n",
            "False\n",
            "Elasped time 0.0002868175506591797\n"
          ],
          "name": "stdout"
        }
      ]
    },
    {
      "cell_type": "markdown",
      "metadata": {
        "id": "UczFS5SSzLoQ",
        "colab_type": "text"
      },
      "source": [
        "# Tuple\n",
        "\n",
        "A tuple is an ordered collection of immutable elements e.g. tuples are similar to lists, but the elements inside a tuple cannot be modified. Most of the list operations shown above can be used on tuples as well, with the exception of the assignment of new value at a certain index position."
      ]
    },
    {
      "cell_type": "code",
      "metadata": {
        "id": "eAO1dj0qvACz",
        "colab_type": "code",
        "colab": {
          "base_uri": "https://localhost:8080/",
          "height": 156
        },
        "outputId": "637007e4-14c2-4295-b860-8a70be770665"
      },
      "source": [
        "a=(124,54,92)               # initialise manually\n",
        "b=()                        # empty tuple\n",
        "c=(\"Ala\",)                  # tuple of a single string (note the trailing \",\")\n",
        "d=(2,3,False,\"Arg\",None)    # a tuple of mixed types\n",
        "\n",
        "print(a)\n",
        "print(b)\n",
        "print(c)\n",
        "print(d)\n",
        "\n",
        "t=a,c,d                     # tuple packing\n",
        "x,y,z=t                     # tuple unpacking\n",
        "\n",
        "print(t)\n",
        "print(x)\n",
        "print(y)\n",
        "print(z)\n"
      ],
      "execution_count": null,
      "outputs": [
        {
          "output_type": "stream",
          "text": [
            "(124, 54, 92)\n",
            "()\n",
            "('Ala',)\n",
            "(2, 3, False, 'Arg', None)\n",
            "((124, 54, 92), ('Ala',), (2, 3, False, 'Arg', None))\n",
            "(124, 54, 92)\n",
            "('Ala',)\n",
            "(2, 3, False, 'Arg', None)\n"
          ],
          "name": "stdout"
        }
      ]
    },
    {
      "cell_type": "code",
      "metadata": {
        "id": "HqbyFeGOzT6B",
        "colab_type": "code",
        "colab": {
          "base_uri": "https://localhost:8080/",
          "height": 35
        },
        "outputId": "2ff622b1-e1a4-4c5a-ae8d-36ed6f9bfcd8"
      },
      "source": [
        "my_phone_tuple=('iPhone 9',False,4.6)\n",
        "type(my_phone_tuple)"
      ],
      "execution_count": null,
      "outputs": [
        {
          "output_type": "execute_result",
          "data": {
            "text/plain": [
              "tuple"
            ]
          },
          "metadata": {
            "tags": []
          },
          "execution_count": 29
        }
      ]
    },
    {
      "cell_type": "code",
      "metadata": {
        "id": "PMo_AdXCzj8t",
        "colab_type": "code",
        "colab": {
          "base_uri": "https://localhost:8080/",
          "height": 35
        },
        "outputId": "f1c219aa-d482-413e-f978-b987f93acd03"
      },
      "source": [
        "print(my_phone_tuple)"
      ],
      "execution_count": null,
      "outputs": [
        {
          "output_type": "stream",
          "text": [
            "('iPhone 9', False, 4.6)\n"
          ],
          "name": "stdout"
        }
      ]
    },
    {
      "cell_type": "code",
      "metadata": {
        "id": "O-VLpIbFznmv",
        "colab_type": "code",
        "colab": {
          "base_uri": "https://localhost:8080/",
          "height": 35
        },
        "outputId": "6704d2da-1c08-44f7-d464-f7e1dd25a803"
      },
      "source": [
        "my_phone_tuple[0:2]"
      ],
      "execution_count": null,
      "outputs": [
        {
          "output_type": "execute_result",
          "data": {
            "text/plain": [
              "('iPhone 9', False)"
            ]
          },
          "metadata": {
            "tags": []
          },
          "execution_count": 32
        }
      ]
    },
    {
      "cell_type": "code",
      "metadata": {
        "id": "aHDd18RczucH",
        "colab_type": "code",
        "colab": {
          "base_uri": "https://localhost:8080/",
          "height": 69
        },
        "outputId": "c03ce5ba-58a2-495f-86d5-b9c761b2890d"
      },
      "source": [
        "for data in my_phone_tuple:\n",
        "  print(data)"
      ],
      "execution_count": null,
      "outputs": [
        {
          "output_type": "stream",
          "text": [
            "iPhone 9\n",
            "False\n",
            "4.6\n"
          ],
          "name": "stdout"
        }
      ]
    },
    {
      "cell_type": "code",
      "metadata": {
        "id": "2ekrw1akz8sy",
        "colab_type": "code",
        "colab": {
          "base_uri": "https://localhost:8080/",
          "height": 35
        },
        "outputId": "8ed9e97a-5652-495e-bf70-bcf8fe689bbb"
      },
      "source": [
        "import time\n",
        "tic=time.time()\n",
        "print(tic)"
      ],
      "execution_count": null,
      "outputs": [
        {
          "output_type": "stream",
          "text": [
            "1592490353.0092127\n"
          ],
          "name": "stdout"
        }
      ]
    },
    {
      "cell_type": "code",
      "metadata": {
        "id": "rDY9-07a0mBW",
        "colab_type": "code",
        "colab": {}
      },
      "source": [
        "time.time?\n"
      ],
      "execution_count": null,
      "outputs": []
    },
    {
      "cell_type": "code",
      "metadata": {
        "id": "LmpmyxGl0rnj",
        "colab_type": "code",
        "colab": {
          "base_uri": "https://localhost:8080/",
          "height": 69
        },
        "outputId": "1671d4dc-45c7-4925-b19e-657660358603"
      },
      "source": [
        "tic=time.time()\n",
        "print(tic)\n",
        "#do something that takes some time\n",
        "toc=time.time()\n",
        "print(toc)\n",
        "print(\"Elasped time in seconds\",toc-tic)"
      ],
      "execution_count": null,
      "outputs": [
        {
          "output_type": "stream",
          "text": [
            "1592490594.7559073\n",
            "1592490594.756197\n",
            "Elasped time in seconds 0.00028967857360839844\n"
          ],
          "name": "stdout"
        }
      ]
    },
    {
      "cell_type": "code",
      "metadata": {
        "id": "6KA71BlU1akP",
        "colab_type": "code",
        "colab": {
          "base_uri": "https://localhost:8080/",
          "height": 35
        },
        "outputId": "4f1142a1-da52-420e-c645-7659aa4997ea"
      },
      "source": [
        "my_list=list(range(1000000))\n",
        "tic=time.time()\n",
        "my_list_squared=map(lambda i: i**2,my_list)\n",
        "toc=time.time()\n",
        "print(\"Elasped time in seconds\",toc-tic)\n"
      ],
      "execution_count": null,
      "outputs": [
        {
          "output_type": "stream",
          "text": [
            "Elasped time in seconds 7.867813110351562e-05\n"
          ],
          "name": "stdout"
        }
      ]
    },
    {
      "cell_type": "code",
      "metadata": {
        "id": "4-f7S4PH2p_1",
        "colab_type": "code",
        "colab": {
          "base_uri": "https://localhost:8080/",
          "height": 35
        },
        "outputId": "6ddba8a0-31c7-4390-d29b-1ccd62991836"
      },
      "source": [
        "my_tuple=tuple(range(1000000))\n",
        "tic=time.time()\n",
        "my_tuple_squared=map(lambda i: i**2,my_tuple)\n",
        "toc=time.time()\n",
        "print(\"Elasped time in seconds\",toc-tic)"
      ],
      "execution_count": null,
      "outputs": [
        {
          "output_type": "stream",
          "text": [
            "Elasped time in seconds 7.200241088867188e-05\n"
          ],
          "name": "stdout"
        }
      ]
    },
    {
      "cell_type": "code",
      "metadata": {
        "id": "Tsj-45O7272M",
        "colab_type": "code",
        "colab": {}
      },
      "source": [
        ""
      ],
      "execution_count": null,
      "outputs": []
    },
    {
      "cell_type": "markdown",
      "metadata": {
        "id": "JemdkkZS_L8V",
        "colab_type": "text"
      },
      "source": [
        "# Dictionary\n",
        "\n",
        "A dictionary is an unordered collection of key-value pairs were keys must be unique."
      ]
    },
    {
      "cell_type": "code",
      "metadata": {
        "id": "UJr80EUl1KYU",
        "colab_type": "code",
        "colab": {
          "base_uri": "https://localhost:8080/",
          "height": 139
        },
        "outputId": "044bd7ce-4761-4b70-96c1-978290ec013c"
      },
      "source": [
        "a={'A':'Adenine','C':'Cytosine'}          # dictionary\n",
        "b=a['A']                                  # translate item\n",
        "c=a.get('N','no value found')             # return default value\n",
        "'A' in a                                  # true if dictionary a contains key 'A'\n",
        "a['G']='Guanine'                          # assign new key, value pair to dictionary a\n",
        "a['T']='Thymine'                          # assign new key, value pair to dictionary a\n",
        "print(a)\n",
        "print(b)\n",
        "print(c)\n",
        "d=a.keys()                                # get list of keys\n",
        "e=a.values()                              # get list of values\n",
        "f=a.items()                               # get list of key value pairs\n",
        "print(d)\n",
        "print(e)\n",
        "print(f)\n",
        "del a['A']                                # delete key and associated value\n",
        "print(a)"
      ],
      "execution_count": null,
      "outputs": [
        {
          "output_type": "stream",
          "text": [
            "{'A': 'Adenine', 'C': 'Cytosine', 'G': 'Guanine', 'T': 'Thymine'}\n",
            "Adenine\n",
            "no value found\n",
            "dict_keys(['A', 'C', 'G', 'T'])\n",
            "dict_values(['Adenine', 'Cytosine', 'Guanine', 'Thymine'])\n",
            "dict_items([('A', 'Adenine'), ('C', 'Cytosine'), ('G', 'Guanine'), ('T', 'Thymine')])\n",
            "{'C': 'Cytosine', 'G': 'Guanine', 'T': 'Thymine'}\n"
          ],
          "name": "stdout"
        }
      ]
    },
    {
      "cell_type": "code",
      "metadata": {
        "id": "svLSo86_8vu0",
        "colab_type": "code",
        "colab": {
          "base_uri": "https://localhost:8080/",
          "height": 35
        },
        "outputId": "8ed35ba7-eea8-4810-a0c0-b35876d75181"
      },
      "source": [
        "my_phone_dict={}\n",
        "type(my_phone_dict)"
      ],
      "execution_count": null,
      "outputs": [
        {
          "output_type": "execute_result",
          "data": {
            "text/plain": [
              "dict"
            ]
          },
          "metadata": {
            "tags": []
          },
          "execution_count": 46
        }
      ]
    },
    {
      "cell_type": "code",
      "metadata": {
        "id": "kEKSV4jK9Hms",
        "colab_type": "code",
        "colab": {
          "base_uri": "https://localhost:8080/",
          "height": 35
        },
        "outputId": "fa802938-9f7c-4de1-e4f5-dcb4ae23f11f"
      },
      "source": [
        "my_phone_dict['name']='iPhone10'\n",
        "my_phone_dict['isAndroid']=False\n",
        "my_phone_dict['screenSize']=5.7\n",
        "print(my_phone_dict)"
      ],
      "execution_count": null,
      "outputs": [
        {
          "output_type": "stream",
          "text": [
            "{'name': 'iPhone10', 'isAndroid': False, 'screenSize': 5.7}\n"
          ],
          "name": "stdout"
        }
      ]
    },
    {
      "cell_type": "code",
      "metadata": {
        "id": "Kz_cdXBR9y6l",
        "colab_type": "code",
        "colab": {
          "base_uri": "https://localhost:8080/",
          "height": 35
        },
        "outputId": "183aa53a-f19b-47cb-815a-900803ccb377"
      },
      "source": [
        "print(my_phone_dict['name'])"
      ],
      "execution_count": null,
      "outputs": [
        {
          "output_type": "stream",
          "text": [
            "iPhone10\n"
          ],
          "name": "stdout"
        }
      ]
    },
    {
      "cell_type": "code",
      "metadata": {
        "id": "q62wAYWq-YEP",
        "colab_type": "code",
        "colab": {
          "base_uri": "https://localhost:8080/",
          "height": 35
        },
        "outputId": "bc016b05-de3e-4321-d332-79f0b7690312"
      },
      "source": [
        "print(my_phone_dict.keys())"
      ],
      "execution_count": null,
      "outputs": [
        {
          "output_type": "stream",
          "text": [
            "dict_keys(['name', 'isAndroid', 'screenSize'])\n"
          ],
          "name": "stdout"
        }
      ]
    },
    {
      "cell_type": "code",
      "metadata": {
        "id": "qkxm3Ilb-fFy",
        "colab_type": "code",
        "colab": {
          "base_uri": "https://localhost:8080/",
          "height": 35
        },
        "outputId": "98f6777e-5c6c-4952-dea2-ede32beeb744"
      },
      "source": [
        "print(my_phone_dict.values())"
      ],
      "execution_count": null,
      "outputs": [
        {
          "output_type": "stream",
          "text": [
            "dict_values(['iPhone10', False, 5.7])\n"
          ],
          "name": "stdout"
        }
      ]
    },
    {
      "cell_type": "code",
      "metadata": {
        "id": "KyPJAnHS-jFS",
        "colab_type": "code",
        "colab": {
          "base_uri": "https://localhost:8080/",
          "height": 35
        },
        "outputId": "ea0687af-30c7-4557-a91a-00653f8765d1"
      },
      "source": [
        "print(my_phone_dict.items())"
      ],
      "execution_count": null,
      "outputs": [
        {
          "output_type": "stream",
          "text": [
            "dict_items([('name', 'iPhone10'), ('isAndroid', False), ('screenSize', 5.7)])\n"
          ],
          "name": "stdout"
        }
      ]
    },
    {
      "cell_type": "code",
      "metadata": {
        "id": "vKfZvUxd-pYv",
        "colab_type": "code",
        "colab": {
          "base_uri": "https://localhost:8080/",
          "height": 69
        },
        "outputId": "5f7d387a-4433-403c-acf9-e63fc60d1808"
      },
      "source": [
        "for key in my_phone_dict.keys():\n",
        "  print(key,':',my_phone_dict[key])"
      ],
      "execution_count": null,
      "outputs": [
        {
          "output_type": "stream",
          "text": [
            "name : iPhone10\n",
            "isAndroid : False\n",
            "screenSize : 5.7\n"
          ],
          "name": "stdout"
        }
      ]
    },
    {
      "cell_type": "markdown",
      "metadata": {
        "id": "fLPj9aHSwhB-",
        "colab_type": "text"
      },
      "source": [
        "# Working with Strings\n",
        "\n",
        "A string is an ordered collection of immutable characters or tuple of characters."
      ]
    },
    {
      "cell_type": "code",
      "metadata": {
        "id": "uWYmvSjqwt34",
        "colab_type": "code",
        "colab": {
          "base_uri": "https://localhost:8080/",
          "height": 260
        },
        "outputId": "165faa5e-ca3f-4594-80c9-28edafc4eb1c"
      },
      "source": [
        "a='red'                         # assignment\n",
        "char=a[2]                       # access individual characters\n",
        "b='red'+'blue'                  # string concatenation\n",
        "c='1,2,three'.split(',')        # split string into list\n",
        "d='.'.join(['1','2','three'])   # concatenate list into string\n",
        "print(a)\n",
        "print(char)\n",
        "print(b)\n",
        "print(c)\n",
        "print(d)\n",
        "\n",
        "dna='ATGTCACCGTTT'              # assignment\n",
        "seq=list(dna)                   # convert string into list of character\n",
        "e=len(dna)                      # return string length\n",
        "f=dna[2:5]                      # slice string\n",
        "g=dna.find('TTr')               # substring location, return -1 when not found\n",
        "print(dna)\n",
        "print(seq)\n",
        "print(e)\n",
        "print(f)\n",
        "print(g)\n",
        "\n",
        "text=' chrom start end'         # assignment\n",
        "print('>',text,'<')            \n",
        "print('>',text.strip(),'<')     # remove unwanted whitespace at both end of the string\n",
        "print('{:.2f}'.format(0.4567))  # formatting string\n",
        "print('{gene:s}\\t{exp:+.2f}'.format(gene='Beta-Actin',exp=1.7))\n",
        "\n",
        "\n"
      ],
      "execution_count": null,
      "outputs": [
        {
          "output_type": "stream",
          "text": [
            "red\n",
            "d\n",
            "redblue\n",
            "['1', '2', 'three']\n",
            "1.2.three\n",
            "ATGTCACCGTTT\n",
            "['A', 'T', 'G', 'T', 'C', 'A', 'C', 'C', 'G', 'T', 'T', 'T']\n",
            "12\n",
            "GTC\n",
            "-1\n",
            ">  chrom start end <\n",
            "> chrom start end <\n",
            "0.46\n",
            "Beta-Actin\t+1.70\n"
          ],
          "name": "stdout"
        }
      ]
    },
    {
      "cell_type": "markdown",
      "metadata": {
        "id": "ft4LiPGY3Vz7",
        "colab_type": "text"
      },
      "source": [
        "# Conditions\n",
        "\n",
        "A conditional `if` or `elif` statement is used to specify that some block of code should only be executed if a conditional expression is **True**. Often the final `else` statement works when all the conditions before are **False**. \n",
        "\n",
        "Python uses indentation to represent which statements are inside a block of code e.g. the line after the `if` statement is indented (tab)."
      ]
    },
    {
      "cell_type": "code",
      "metadata": {
        "id": "FmYQy87-3fCG",
        "colab_type": "code",
        "colab": {
          "base_uri": "https://localhost:8080/",
          "height": 35
        },
        "outputId": "df45bd2e-4d87-497f-b96e-8dbaadbbead4"
      },
      "source": [
        "a,b=1,2\n",
        "if a+b==3:\n",
        "  print('Three')\n",
        "elif a+b==1:\n",
        "  print('One')\n",
        "else:\n",
        "  print('?')"
      ],
      "execution_count": null,
      "outputs": [
        {
          "output_type": "stream",
          "text": [
            "Three\n"
          ],
          "name": "stdout"
        }
      ]
    },
    {
      "cell_type": "markdown",
      "metadata": {
        "id": "TUaGGyR435L_",
        "colab_type": "text"
      },
      "source": [
        "# Comparisons"
      ]
    },
    {
      "cell_type": "code",
      "metadata": {
        "id": "zZO8IvNN4cnT",
        "colab_type": "code",
        "colab": {
          "base_uri": "https://localhost:8080/",
          "height": 295
        },
        "outputId": "2db60bee-e149-4fd3-833e-aa88529a53c9"
      },
      "source": [
        "1 == 1                                          # equal\n",
        "1 != 2                                          # not equal\n",
        "2 > 1                                           # greater than\n",
        "2 < 1                                           # less than\n",
        "\n",
        "1 != 2 and 2 < 3                                # Logical AND\n",
        "1 !=2 or 2 < 3                                  # Logical OR\n",
        "not 1==2                                        # logical NOT\n",
        "\n",
        "a=list('ATGTCACCGTTT')\n",
        "b=a                                             # same as a\n",
        "c=a[:]                                          # copy of a\n",
        "'N' in a                                        # test if character 'N' is in a \n",
        "\n",
        "print('a',a)\n",
        "print('b',b)\n",
        "print('c',c)\n",
        "print('Is N in a','N' in a)\n",
        "print('Are objects b and a point to the same memory address?', b is a)\n",
        "print('Are objects c and a point to the same memory address?', c is a)\n",
        "print('Are values of b and a identical?',b==a)\n",
        "print('Are values of c and a identical?',c==a)\n",
        "\n",
        "a[0]='N'                                        # Modify a\n",
        "print('a',a)\n",
        "print('b',b)\n",
        "print('c',c)\n",
        "print('Is N in a','N' in a)\n",
        "print('Are objects b and a point to the same memory address?', b is a)\n",
        "print('Are objects c and a point to the same memory address?', c is a)\n",
        "print('Are values of b and a identical?',b==a)\n",
        "print('Are values of c and a identical?',c==a)"
      ],
      "execution_count": null,
      "outputs": [
        {
          "output_type": "stream",
          "text": [
            "a ['A', 'T', 'G', 'T', 'C', 'A', 'C', 'C', 'G', 'T', 'T', 'T']\n",
            "b ['A', 'T', 'G', 'T', 'C', 'A', 'C', 'C', 'G', 'T', 'T', 'T']\n",
            "c ['A', 'T', 'G', 'T', 'C', 'A', 'C', 'C', 'G', 'T', 'T', 'T']\n",
            "Is N in a False\n",
            "Are objects b and a point to the same memory address? True\n",
            "Are objects c and a point to the same memory address? False\n",
            "Are values of b and a identical? True\n",
            "Are values of c and a identical? True\n",
            "a ['N', 'T', 'G', 'T', 'C', 'A', 'C', 'C', 'G', 'T', 'T', 'T']\n",
            "b ['N', 'T', 'G', 'T', 'C', 'A', 'C', 'C', 'G', 'T', 'T', 'T']\n",
            "c ['A', 'T', 'G', 'T', 'C', 'A', 'C', 'C', 'G', 'T', 'T', 'T']\n",
            "Is N in a True\n",
            "Are objects b and a point to the same memory address? True\n",
            "Are objects c and a point to the same memory address? False\n",
            "Are values of b and a identical? True\n",
            "Are values of c and a identical? False\n"
          ],
          "name": "stdout"
        }
      ]
    },
    {
      "cell_type": "markdown",
      "metadata": {
        "id": "XPDyNZOuWlol",
        "colab_type": "text"
      },
      "source": [
        "# Loops\n",
        "\n",
        "There are two ways of creating loops in Python using for or while\n"
      ]
    },
    {
      "cell_type": "code",
      "metadata": {
        "id": "SPlnxiEuePta",
        "colab_type": "code",
        "colab": {
          "base_uri": "https://localhost:8080/",
          "height": 35
        },
        "outputId": "384ce28a-de70-4f6a-9edf-dd9c1cde9ce4"
      },
      "source": [
        "if(phoneOS_android==True):\n",
        "  print(\"The phone OS is android\")\n",
        "  print(\"Printing a line\")\n",
        "print(\"Outside the if print block\")"
      ],
      "execution_count": null,
      "outputs": [
        {
          "output_type": "stream",
          "text": [
            "Outside the if print block\n"
          ],
          "name": "stdout"
        }
      ]
    },
    {
      "cell_type": "code",
      "metadata": {
        "id": "e-2XvMbBg39s",
        "colab_type": "code",
        "colab": {
          "base_uri": "https://localhost:8080/",
          "height": 104
        },
        "outputId": "c14488a9-f9dc-49cc-c2fb-3db2d0b7e8ba"
      },
      "source": [
        "for i in range(5):\n",
        "  print(i,\"\\t\",i**2)"
      ],
      "execution_count": null,
      "outputs": [
        {
          "output_type": "stream",
          "text": [
            "0 \t 0\n",
            "1 \t 1\n",
            "2 \t 4\n",
            "3 \t 9\n",
            "4 \t 16\n"
          ],
          "name": "stdout"
        }
      ]
    },
    {
      "cell_type": "code",
      "metadata": {
        "id": "dAG8WQJjhaPi",
        "colab_type": "code",
        "colab": {}
      },
      "source": [
        "range?\n"
      ],
      "execution_count": null,
      "outputs": []
    },
    {
      "cell_type": "code",
      "metadata": {
        "id": "AkMaA6-k46Lg",
        "colab_type": "code",
        "colab": {
          "base_uri": "https://localhost:8080/",
          "height": 69
        },
        "outputId": "1140217d-f5c6-4997-efd0-22cc8e494159"
      },
      "source": [
        "a=['red','green','blue']\n",
        "for colour in a:\n",
        "  print(colour)"
      ],
      "execution_count": null,
      "outputs": [
        {
          "output_type": "stream",
          "text": [
            "red\n",
            "green\n",
            "blue\n"
          ],
          "name": "stdout"
        }
      ]
    },
    {
      "cell_type": "code",
      "metadata": {
        "id": "8_in2JGzh55R",
        "colab_type": "code",
        "colab": {
          "base_uri": "https://localhost:8080/",
          "height": 104
        },
        "outputId": "e6a0529b-5b94-444d-c464-0629023ae2a4"
      },
      "source": [
        "i=0\n",
        "while i<5:\n",
        "  print(i,\"\\t\",i**2)\n",
        "  i+=1\n"
      ],
      "execution_count": null,
      "outputs": [
        {
          "output_type": "stream",
          "text": [
            "0 \t 0\n",
            "1 \t 1\n",
            "2 \t 4\n",
            "3 \t 9\n",
            "4 \t 16\n"
          ],
          "name": "stdout"
        }
      ]
    },
    {
      "cell_type": "code",
      "metadata": {
        "id": "a6HKZ3mK5LCZ",
        "colab_type": "code",
        "colab": {}
      },
      "source": [
        "number=1\n",
        "while number < 10:\n",
        "  print(number)\n",
        "  number += 1"
      ],
      "execution_count": null,
      "outputs": []
    },
    {
      "cell_type": "markdown",
      "metadata": {
        "id": "x-JHyO1B53dT",
        "colab_type": "text"
      },
      "source": [
        "Python has two ways of affecting the flow of a **for** or **while** loop:\n",
        "\n",
        "The **break** statement immediately causes all looping to finish, and execution is resumed at the next statement after the loop. \n",
        "\n",
        "The **continue** statement means that the rest of the code in the block is skipped for this particular item in the collection."
      ]
    },
    {
      "cell_type": "code",
      "metadata": {
        "id": "WmotpmLd6OhT",
        "colab_type": "code",
        "colab": {
          "base_uri": "https://localhost:8080/",
          "height": 87
        },
        "outputId": "8e87707a-2c44-4802-b129-57bb9e43f4b9"
      },
      "source": [
        "# break\n",
        "sequence = ['CAG','TAC','CAA','TAG','TAC','CAG','CAA']\n",
        "for codon in sequence:\n",
        "    if codon == 'TAG':\n",
        "        break            # Quit the looping at this point (the TAG stop codon)\n",
        "    else:\n",
        "        print(codon)\n",
        "\n",
        "        \n",
        "# continue\n",
        "values = [10, -5, 3, -1, 7]\n",
        "total = 0\n",
        "for v in values:\n",
        "    if v < 0:\n",
        "        continue         # Don't quit the loop but skip the iterations where the integer is negative   \n",
        "    total += v\n",
        "\n",
        "print(values, 'sum:', sum(values), 'total:', total)"
      ],
      "execution_count": null,
      "outputs": [
        {
          "output_type": "stream",
          "text": [
            "CAG\n",
            "TAC\n",
            "CAA\n",
            "[10, -5, 3, -1, 7] sum: 14 total: 20\n"
          ],
          "name": "stdout"
        }
      ]
    },
    {
      "cell_type": "code",
      "metadata": {
        "id": "LdfKCYVdievA",
        "colab_type": "code",
        "colab": {}
      },
      "source": [
        "def print_square(stop_val):\n",
        "  for i in range(stop_val):\n",
        "    print(i,\"\\t\",i**2)"
      ],
      "execution_count": null,
      "outputs": []
    },
    {
      "cell_type": "code",
      "metadata": {
        "id": "eVBfh7j2jASd",
        "colab_type": "code",
        "colab": {
          "base_uri": "https://localhost:8080/",
          "height": 104
        },
        "outputId": "9915a4f1-79a2-460d-e7e8-e15db8be06d3"
      },
      "source": [
        "print(print_square(4))"
      ],
      "execution_count": null,
      "outputs": [
        {
          "output_type": "stream",
          "text": [
            "0 \t 0\n",
            "1 \t 1\n",
            "2 \t 4\n",
            "3 \t 9\n",
            "None\n"
          ],
          "name": "stdout"
        }
      ]
    },
    {
      "cell_type": "markdown",
      "metadata": {
        "id": "rEq5jZh9pbsy",
        "colab_type": "text"
      },
      "source": [
        "# Packages"
      ]
    },
    {
      "cell_type": "code",
      "metadata": {
        "id": "gCubIQlLpfvr",
        "colab_type": "code",
        "colab": {
          "base_uri": "https://localhost:8080/",
          "height": 35
        },
        "outputId": "2fdb9256-ed11-4d54-de49-481e639ca3b4"
      },
      "source": [
        "import math\n",
        "a=math.sqrt(100)\n",
        "print(a)"
      ],
      "execution_count": null,
      "outputs": [
        {
          "output_type": "stream",
          "text": [
            "10.0\n"
          ],
          "name": "stdout"
        }
      ]
    },
    {
      "cell_type": "code",
      "metadata": {
        "id": "iZZsyG5eqnCT",
        "colab_type": "code",
        "colab": {
          "base_uri": "https://localhost:8080/",
          "height": 35
        },
        "outputId": "1ced9a67-eb30-4749-db32-f7b72f0f2985"
      },
      "source": [
        "a=math.pow(100,0.5)\n",
        "print(a)"
      ],
      "execution_count": null,
      "outputs": [
        {
          "output_type": "stream",
          "text": [
            "10.0\n"
          ],
          "name": "stdout"
        }
      ]
    },
    {
      "cell_type": "code",
      "metadata": {
        "id": "n6PpGWmIrJb2",
        "colab_type": "code",
        "colab": {
          "base_uri": "https://localhost:8080/",
          "height": 55
        },
        "outputId": "36f20c9a-eb47-4135-a1db-0301857d2470"
      },
      "source": [
        "x=100\n",
        "y=1\n",
        "for i in range(1,x):\n",
        "  y*=i\n",
        "print(\"Factorial of\",x,'is ',y)\n"
      ],
      "execution_count": null,
      "outputs": [
        {
          "output_type": "stream",
          "text": [
            "Factorial of 100 is  933262154439441526816992388562667004907159682643816214685929638952175999932299156089414639761565182862536979208272237582511852109168640000000000000000000000\n"
          ],
          "name": "stdout"
        }
      ]
    },
    {
      "cell_type": "code",
      "metadata": {
        "id": "FcorXLektNgB",
        "colab_type": "code",
        "colab": {}
      },
      "source": [
        "y=math.factorial(x)"
      ],
      "execution_count": null,
      "outputs": []
    },
    {
      "cell_type": "code",
      "metadata": {
        "id": "-9JRxCKHtVt5",
        "colab_type": "code",
        "colab": {}
      },
      "source": [
        "import math as m"
      ],
      "execution_count": null,
      "outputs": []
    },
    {
      "cell_type": "code",
      "metadata": {
        "id": "pBzm6ePbtZlY",
        "colab_type": "code",
        "colab": {}
      },
      "source": [
        "y=m.factorial(x)  "
      ],
      "execution_count": null,
      "outputs": []
    },
    {
      "cell_type": "code",
      "metadata": {
        "id": "S0gEWOWptg1B",
        "colab_type": "code",
        "colab": {}
      },
      "source": [
        "from math import factorial"
      ],
      "execution_count": null,
      "outputs": []
    },
    {
      "cell_type": "code",
      "metadata": {
        "id": "CEi1jAzntoKG",
        "colab_type": "code",
        "colab": {}
      },
      "source": [
        "y=factorial(x)"
      ],
      "execution_count": null,
      "outputs": []
    },
    {
      "cell_type": "code",
      "metadata": {
        "id": "H76NghWuuEnF",
        "colab_type": "code",
        "colab": {
          "base_uri": "https://localhost:8080/",
          "height": 52
        },
        "outputId": "283e825f-927b-4085-9b34-c3a1feaa3474"
      },
      "source": [
        "import time\n",
        "vals=list(range(1,100))\n",
        "tic=time.time()\n",
        "for x in vals:\n",
        "  y=1\n",
        "  for i in range(1,x):\n",
        "    y*=i\n",
        "toc=time.time()\n",
        "print('Elapsed time in secs with own function',toc-tic)\n",
        "\n",
        "tic=time.time()\n",
        "for x in vals:\n",
        "  y=math.factorial(x)\n",
        "toc=time.time()\n",
        "print('Elapsed time in secs with own function',toc-tic)\n"
      ],
      "execution_count": null,
      "outputs": [
        {
          "output_type": "stream",
          "text": [
            "Elapsed time in secs with own function 0.0006151199340820312\n",
            "Elapsed time in secs with own function 0.00016832351684570312\n"
          ],
          "name": "stdout"
        }
      ]
    },
    {
      "cell_type": "code",
      "metadata": {
        "id": "kKJ75ESryInv",
        "colab_type": "code",
        "colab": {}
      },
      "source": [
        "!echo 'def hello():' > my_first_module.py\n",
        "!echo '    print(\"Hello, I am living in a different file\")' >> my_first_module.py"
      ],
      "execution_count": null,
      "outputs": []
    },
    {
      "cell_type": "code",
      "metadata": {
        "id": "0qQrgyImymOk",
        "colab_type": "code",
        "colab": {
          "base_uri": "https://localhost:8080/",
          "height": 52
        },
        "outputId": "4bed77c8-badc-4174-8193-73568c4d3c99"
      },
      "source": [
        "!cat my_first_module.py"
      ],
      "execution_count": null,
      "outputs": [
        {
          "output_type": "stream",
          "text": [
            "def hello():\n",
            "    print(\"Hello, I am living in a different file\")\n"
          ],
          "name": "stdout"
        }
      ]
    },
    {
      "cell_type": "code",
      "metadata": {
        "id": "b7NXPtKayv1G",
        "colab_type": "code",
        "colab": {}
      },
      "source": [
        "import my_first_module"
      ],
      "execution_count": null,
      "outputs": []
    },
    {
      "cell_type": "code",
      "metadata": {
        "id": "3llAFe0FzG4K",
        "colab_type": "code",
        "colab": {
          "base_uri": "https://localhost:8080/",
          "height": 35
        },
        "outputId": "76be7533-80c5-4e6e-ab7b-87fe63ee2ff8"
      },
      "source": [
        "my_first_module.hello()"
      ],
      "execution_count": null,
      "outputs": [
        {
          "output_type": "stream",
          "text": [
            "Hello, I am living in a different file\n"
          ],
          "name": "stdout"
        }
      ]
    },
    {
      "cell_type": "code",
      "metadata": {
        "id": "tz9KaVJUzTYa",
        "colab_type": "code",
        "colab": {}
      },
      "source": [
        "from my_first_module import hello "
      ],
      "execution_count": null,
      "outputs": []
    },
    {
      "cell_type": "code",
      "metadata": {
        "id": "hDRPzzuIze2F",
        "colab_type": "code",
        "colab": {
          "base_uri": "https://localhost:8080/",
          "height": 35
        },
        "outputId": "5562fc15-6986-4bb3-8434-23abd1b4bd11"
      },
      "source": [
        "hello()"
      ],
      "execution_count": null,
      "outputs": [
        {
          "output_type": "stream",
          "text": [
            "Hello, I am living in a different file\n"
          ],
          "name": "stdout"
        }
      ]
    }
  ]
}